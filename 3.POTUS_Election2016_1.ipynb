{
 "cells": [
  {
   "cell_type": "markdown",
   "metadata": {},
   "source": [
    "# POTUS Election 2016 Reddit data Analysis (1)\n",
    "\n",
    "python=3.7"
   ]
  },
  {
   "cell_type": "code",
   "execution_count": 148,
   "metadata": {
    "tags": []
   },
   "outputs": [
    {
     "data": {
      "text/plain": [
       "1"
      ]
     },
     "execution_count": 148,
     "metadata": {},
     "output_type": "execute_result"
    }
   ],
   "source": [
    "1"
   ]
  },
  {
   "cell_type": "code",
   "execution_count": 1,
   "metadata": {},
   "outputs": [],
   "source": [
    "import pandas as pd\n",
    "import networkx as nx\n",
    "import seaborn as sns\n",
    "import re\n",
    "from joblib import dump, load\n",
    "from tldextract import extract\n",
    "import matplotlib.pyplot as plt\n",
    "import warnings\n",
    "warnings.filterwarnings('ignore')\n",
    "%matplotlib inline"
   ]
  },
  {
   "cell_type": "markdown",
   "metadata": {},
   "source": [
    "### construct reply-comment network"
   ]
  },
  {
   "cell_type": "code",
   "execution_count": 149,
   "metadata": {},
   "outputs": [],
   "source": [
    "df = load(\"16-pkl/16election_debunk_[lang=en][time=16.10-16.12].pkl\")"
   ]
  },
  {
   "cell_type": "code",
   "execution_count": 150,
   "metadata": {
    "tags": []
   },
   "outputs": [
    {
     "name": "stdout",
     "output_type": "stream",
     "text": [
      "<class 'pandas.core.frame.DataFrame'>\n",
      "Int64Index: 30297 entries, 6793 to 78746321\n",
      "Data columns (total 9 columns):\n",
      " #   Column        Non-Null Count  Dtype  \n",
      "---  ------        --------------  -----  \n",
      " 0   Unnamed: 0    30297 non-null  object \n",
      " 1   subreddit_id  30297 non-null  object \n",
      " 2   created_utc   30297 non-null  float64\n",
      " 3   subreddit     30297 non-null  object \n",
      " 4   author        30297 non-null  object \n",
      " 5   id            30297 non-null  object \n",
      " 6   parent_id     30297 non-null  object \n",
      " 7   body          30297 non-null  object \n",
      " 8   lang          30297 non-null  object \n",
      "dtypes: float64(1), object(8)\n",
      "memory usage: 2.3+ MB\n"
     ]
    }
   ],
   "source": [
    "df.info()\n",
    "\n"
   ]
  },
  {
   "cell_type": "code",
   "execution_count": null,
   "metadata": {},
   "outputs": [],
   "source": [
    "# for subbmission author mapping\n",
    "comment_user_list = df[['parent_id']]\n",
    "comment_user_list['id'] = comment_user_list_filt['parent_id'].str.replace('^t\\d+_', '')\n",
    "comment_user_list"
   ]
  },
  {
   "cell_type": "code",
   "execution_count": 16,
   "metadata": {
    "collapsed": true,
    "jupyter": {
     "outputs_hidden": true
    },
    "tags": []
   },
   "outputs": [
    {
     "name": "stdout",
     "output_type": "stream",
     "text": [
      "         author_flair_css_class  is_self  saved  ups  retrieved_on  archived  \\\n",
      "0                           MAL     True  False   23    1484291391     False   \n",
      "1                          None     True  False   12    1484291391     False   \n",
      "2                          None    False  False    4    1484291391     False   \n",
      "3                          None    False  False    2    1484291391     False   \n",
      "4                          None     True  False    4    1484291391     False   \n",
      "...                         ...      ...    ...  ...           ...       ...   \n",
      "25868372                   None    False  False    0    1480294928     False   \n",
      "25868373                   None     True  False    0    1480294928     False   \n",
      "25868374                   None    False  False    1    1480294928     False   \n",
      "25868375                  Brynn    False  False    1    1480294928     False   \n",
      "25868376                   None    False  False    2    1480294928     False   \n",
      "\n",
      "                                         secure_media_embed  \\\n",
      "0                                                        {}   \n",
      "1                                                        {}   \n",
      "2                                                        {}   \n",
      "3                                                        {}   \n",
      "4                                                        {}   \n",
      "...                                                     ...   \n",
      "25868372                                                 {}   \n",
      "25868373                                                 {}   \n",
      "25868374  {'content': '&lt;iframe width=\"600\" height=\"33...   \n",
      "25868375                                                 {}   \n",
      "25868376                                                 {}   \n",
      "\n",
      "                             author_flair_text  locked  spoiler  ...  \\\n",
      "0         http://myanimelist.net/profile/Smurf   False    False  ...   \n",
      "1                                         None   False    False  ...   \n",
      "2                                         None   False    False  ...   \n",
      "3                                         None   False    False  ...   \n",
      "4                                         None   False    False  ...   \n",
      "...                                        ...     ...      ...  ...   \n",
      "25868372                                  None   False    False  ...   \n",
      "25868373                                  None   False    False  ...   \n",
      "25868374                                  None   False    False  ...   \n",
      "25868375                                   NaN   False    False  ...   \n",
      "25868376                                  None   False    False  ...   \n",
      "\n",
      "                        author gilded downs hide_score  stickied      id  \\\n",
      "0              u/SmurfRockRune      0     0      False     False  5ft6xl   \n",
      "1         u/guileandsubterfuge      0     0      False     False  5ft6xm   \n",
      "2                   u/qznc_bot      0     0      False     False  5ft6xn   \n",
      "3                  u/[deleted]      0     0      False     False  5ft6xo   \n",
      "4                  u/ryfreddit      0     0      False     False  5ft6xp   \n",
      "...                        ...    ...   ...        ...       ...     ...   \n",
      "25868372               u/kLOsk      0     0      False     False  5afz2o   \n",
      "25868373           u/[deleted]      0     0      False     False  5afz2p   \n",
      "25868374       u/BitcoinAllBot      0     0      False     False  5afz2q   \n",
      "25868375  u/go_home_gamer_girl      0     0      False     False  5afz2r   \n",
      "25868376             u/PvtDeth      0     0      False     False  5afz2s   \n",
      "\n",
      "         distinguished quarantine  \\\n",
      "0                 None      False   \n",
      "1                 None      False   \n",
      "2                 None      False   \n",
      "3                 None      False   \n",
      "4                 None      False   \n",
      "...                ...        ...   \n",
      "25868372          None      False   \n",
      "25868373          None      False   \n",
      "25868374          None      False   \n",
      "25868375          None      False   \n",
      "25868376          None      False   \n",
      "\n",
      "                                                   selftext  \\\n",
      "0         **What is this thread?** It's a place to post ...   \n",
      "1                                                 [removed]   \n",
      "2                                                       NaN   \n",
      "3                                                 [deleted]   \n",
      "4         I've been snapchatting this girl in the grade ...   \n",
      "...                                                     ...   \n",
      "25868372                                                NaN   \n",
      "25868373                                          [deleted]   \n",
      "25868374                                                NaN   \n",
      "25868375                                                NaN   \n",
      "25868376                                                NaN   \n",
      "\n",
      "                                                media_embed  \n",
      "0                                                        {}  \n",
      "1                                                        {}  \n",
      "2                                                        {}  \n",
      "3                                                        {}  \n",
      "4                                                        {}  \n",
      "...                                                     ...  \n",
      "25868372                                                 {}  \n",
      "25868373                                                 {}  \n",
      "25868374  {'content': '&lt;iframe width=\"600\" height=\"33...  \n",
      "25868375                                                 {}  \n",
      "25868376                                                 {}  \n",
      "\n",
      "[25868377 rows x 36 columns]\n"
     ]
    }
   ],
   "source": [
    "import glob  \n",
    "\n",
    "# file path contains all the files of reddit comment data\n",
    "folder_path = '/mnt/data/wenlu/reddit-new/16-election-submission'  \n",
    "  \n",
    "# use glob library to find all the csv files\n",
    "csv_files = glob.glob(f'{folder_path}/*.csv')  \n",
    "  \n",
    "# empty DataFrame to save all the data\n",
    "all_data = pd.DataFrame()  \n",
    "\n",
    "for file in csv_files:  \n",
    "    df1 = pd.read_csv(file)  \n",
    "    all_data = all_data.append(df1, ignore_index=True)  \n",
    "print(all_data)"
   ]
  },
  {
   "cell_type": "code",
   "execution_count": 138,
   "metadata": {
    "tags": []
   },
   "outputs": [
    {
     "name": "stdout",
     "output_type": "stream",
     "text": [
      "<class 'pandas.core.frame.DataFrame'>\n",
      "RangeIndex: 25868377 entries, 0 to 25868376\n",
      "Data columns (total 36 columns):\n",
      " #   Column                  Dtype \n",
      "---  ------                  ----- \n",
      " 0   author_flair_css_class  object\n",
      " 1   is_self                 bool  \n",
      " 2   saved                   bool  \n",
      " 3   ups                     int64 \n",
      " 4   retrieved_on            int64 \n",
      " 5   archived                bool  \n",
      " 6   secure_media_embed      object\n",
      " 7   author_flair_text       object\n",
      " 8   locked                  bool  \n",
      " 9   spoiler                 bool  \n",
      " 10  over_18                 bool  \n",
      " 11  title                   object\n",
      " 12  url                     object\n",
      " 13  link_flair_text         object\n",
      " 14  score                   int64 \n",
      " 15  thumbnail               object\n",
      " 16  domain                  object\n",
      " 17  permalink               object\n",
      " 18  contest_mode            bool  \n",
      " 19  edited                  object\n",
      " 20  num_comments            int64 \n",
      " 21  secure_media            object\n",
      " 22  link_flair_css_class    object\n",
      " 23  media                   object\n",
      " 24  created_utc             int64 \n",
      " 25  name                    object\n",
      " 26  author                  object\n",
      " 27  gilded                  int64 \n",
      " 28  downs                   int64 \n",
      " 29  hide_score              bool  \n",
      " 30  stickied                bool  \n",
      " 31  id                      object\n",
      " 32  distinguished           object\n",
      " 33  quarantine              bool  \n",
      " 34  selftext                object\n",
      " 35  media_embed             object\n",
      "dtypes: bool(10), int64(7), object(19)\n",
      "memory usage: 5.3+ GB\n"
     ]
    }
   ],
   "source": [
    "all_data.info() # select the colums you need"
   ]
  },
  {
   "cell_type": "code",
   "execution_count": 42,
   "metadata": {
    "tags": []
   },
   "outputs": [],
   "source": [
    "submission_user_list = all_data['id'].to_list()"
   ]
  },
  {
   "cell_type": "code",
   "execution_count": 154,
   "metadata": {
    "tags": []
   },
   "outputs": [],
   "source": [
    "# create a dictionary of {id:author}\n",
    "id_to_author = dict(zip(all_data['id'], all_data['author']))\n",
    "\n",
    "# use .map to map the submission authors' information\n",
    "comment_user_list['submission_author'] = comment_user_list['id'].map(id_to_author)"
   ]
  },
  {
   "cell_type": "code",
   "execution_count": null,
   "metadata": {
    "tags": []
   },
   "outputs": [],
   "source": [
    "#  map the comment authors' information\n",
    "comment_id_to_author = dict(zip(df['parent_id'], df['author']))\n",
    "comment_user_list['comment_author'] = comment_user_list['parent_id'].map(comment_id_to_author) "
   ]
  },
  {
   "cell_type": "code",
   "execution_count": null,
   "metadata": {
    "tags": []
   },
   "outputs": [],
   "source": [
    "comment_user_list_notna = comment_user_list.dropna()\n",
    "comment_user_list_notna"
   ]
  },
  {
   "cell_type": "code",
   "execution_count": null,
   "metadata": {},
   "outputs": [
    {
     "name": "stdout",
     "output_type": "stream",
     "text": [
      "32806\n"
     ]
    }
   ],
   "source": [
    "# construct edge list that contains retweet-comment data\n",
    "rt_list =comment_user_list_filt[comment_user_list['parent_id'].notnull()]\n",
    "print(len(rt_list))\n",
    "\n",
    "#author:the account name of the poster\n",
    "#id:this item's identifier, e.g. \"8xwlg\"\n",
    "#parent_id:ID of the thing this comment is a reply to, either the link or a comment in it\n",
    "# edge list\n",
    "#edge_list = pd.concat([comment_user_list['parent_id'], all_data['id'], axis=1)\n",
    "\n",
    "edge_list = pd.DataFrame({  'source':rt_list['submission_author'], 'target':rt_list['comment_author']   })"
   ]
  },
  {
   "cell_type": "code",
   "execution_count": null,
   "metadata": {
    "tags": []
   },
   "outputs": [],
   "source": [
    "edge_list_notnull = edge_list.dropna()"
   ]
  },
  {
   "cell_type": "code",
   "execution_count": null,
   "metadata": {
    "tags": []
   },
   "outputs": [
    {
     "data": {
      "text/html": [
       "<div>\n",
       "<style scoped>\n",
       "    .dataframe tbody tr th:only-of-type {\n",
       "        vertical-align: middle;\n",
       "    }\n",
       "\n",
       "    .dataframe tbody tr th {\n",
       "        vertical-align: top;\n",
       "    }\n",
       "\n",
       "    .dataframe thead th {\n",
       "        text-align: right;\n",
       "    }\n",
       "</style>\n",
       "<table border=\"1\" class=\"dataframe\">\n",
       "  <thead>\n",
       "    <tr style=\"text-align: right;\">\n",
       "      <th></th>\n",
       "      <th>source</th>\n",
       "      <th>target</th>\n",
       "    </tr>\n",
       "  </thead>\n",
       "  <tbody>\n",
       "    <tr>\n",
       "      <th>6</th>\n",
       "      <td>u/gerroff2</td>\n",
       "      <td>u/PossiblyaShitposter</td>\n",
       "    </tr>\n",
       "    <tr>\n",
       "      <th>10</th>\n",
       "      <td>u/FroggerWithMyLife</td>\n",
       "      <td>u/Mastr_Blastr</td>\n",
       "    </tr>\n",
       "    <tr>\n",
       "      <th>17</th>\n",
       "      <td>u/ExpOriental</td>\n",
       "      <td>u/sjryan</td>\n",
       "    </tr>\n",
       "    <tr>\n",
       "      <th>26</th>\n",
       "      <td>u/petercfrank</td>\n",
       "      <td>u/Land_of_Enchantment</td>\n",
       "    </tr>\n",
       "    <tr>\n",
       "      <th>27</th>\n",
       "      <td>u/tiredddddaway</td>\n",
       "      <td>u/_samux_</td>\n",
       "    </tr>\n",
       "    <tr>\n",
       "      <th>...</th>\n",
       "      <td>...</td>\n",
       "      <td>...</td>\n",
       "    </tr>\n",
       "    <tr>\n",
       "      <th>128249</th>\n",
       "      <td>u/Joetheweirdo</td>\n",
       "      <td>u/descendus</td>\n",
       "    </tr>\n",
       "    <tr>\n",
       "      <th>128254</th>\n",
       "      <td>u/WanktheMank</td>\n",
       "      <td>u/Labore_Et_Constantia</td>\n",
       "    </tr>\n",
       "    <tr>\n",
       "      <th>128255</th>\n",
       "      <td>u/NoTaxesTrump</td>\n",
       "      <td>u/whywilson</td>\n",
       "    </tr>\n",
       "    <tr>\n",
       "      <th>128260</th>\n",
       "      <td>u/jk_211</td>\n",
       "      <td>u/JoeFabooche</td>\n",
       "    </tr>\n",
       "    <tr>\n",
       "      <th>128262</th>\n",
       "      <td>u/Angel4CityCouncil</td>\n",
       "      <td>u/BillToddToo</td>\n",
       "    </tr>\n",
       "  </tbody>\n",
       "</table>\n",
       "<p>32806 rows × 2 columns</p>\n",
       "</div>"
      ],
      "text/plain": [
       "                     source                  target\n",
       "6                u/gerroff2   u/PossiblyaShitposter\n",
       "10      u/FroggerWithMyLife          u/Mastr_Blastr\n",
       "17            u/ExpOriental                u/sjryan\n",
       "26            u/petercfrank   u/Land_of_Enchantment\n",
       "27          u/tiredddddaway               u/_samux_\n",
       "...                     ...                     ...\n",
       "128249       u/Joetheweirdo             u/descendus\n",
       "128254        u/WanktheMank  u/Labore_Et_Constantia\n",
       "128255       u/NoTaxesTrump             u/whywilson\n",
       "128260             u/jk_211           u/JoeFabooche\n",
       "128262  u/Angel4CityCouncil           u/BillToddToo\n",
       "\n",
       "[32806 rows x 2 columns]"
      ]
     },
     "execution_count": 135,
     "metadata": {},
     "output_type": "execute_result"
    }
   ],
   "source": [
    "edge_list"
   ]
  },
  {
   "cell_type": "code",
   "execution_count": null,
   "metadata": {
    "tags": []
   },
   "outputs": [],
   "source": [
    " #turn to the the gephi\n",
    "D = nx.from_pandas_edgelist(edge_list, create_using=nx.DiGraph)    # 利用边的信息来构建有向图\n",
    "nx.write_gexf(D, \"/mnt/data/wenlu/reddit-new/16-pkl/new3_RTnetworks_of_16election_reddit[time=16.10.10-16.12.31].gexf\")  # 保存有向图数据"
   ]
  },
  {
   "cell_type": "code",
   "execution_count": null,
   "metadata": {},
   "outputs": [
    {
     "name": "stdout",
     "output_type": "stream",
     "text": [
      "<class 'pandas.core.frame.DataFrame'>\n",
      "Int64Index: 32806 entries, 6 to 128262\n",
      "Data columns (total 2 columns):\n",
      " #   Column  Non-Null Count  Dtype \n",
      "---  ------  --------------  ----- \n",
      " 0   source  32801 non-null  object\n",
      " 1   target  32806 non-null  object\n",
      "dtypes: object(2)\n",
      "memory usage: 768.9+ KB\n"
     ]
    }
   ],
   "source": [
    "edge_list.info()"
   ]
  },
  {
   "cell_type": "markdown",
   "metadata": {},
   "source": [
    "#kcore = 2"
   ]
  },
  {
   "cell_type": "code",
   "execution_count": null,
   "metadata": {
    "tags": []
   },
   "outputs": [],
   "source": [
    "# remove the self cycle\n",
    "D.remove_edges_from(nx.selfloop_edges(D))\n",
    "\n",
    "# caculate the number of k_core=2\n",
    "k_core_2 = nx.k_core(D, k=2)"
   ]
  },
  {
   "cell_type": "code",
   "execution_count": null,
   "metadata": {
    "tags": []
   },
   "outputs": [
    {
     "data": {
      "text/plain": [
       "2113"
      ]
     },
     "execution_count": 141,
     "metadata": {},
     "output_type": "execute_result"
    }
   ],
   "source": [
    "k_core_2.number_of_nodes()\n",
    "k_core_2.number_of_edges()"
   ]
  },
  {
   "cell_type": "code",
   "execution_count": null,
   "metadata": {
    "tags": []
   },
   "outputs": [],
   "source": [
    "in_degrees = dict(k_core_2.in_degree())\n",
    "\n",
    "# sort the nodes by their degree\n",
    "sorted_nodes_by_in_degree = sorted(in_degrees, key=in_degrees.get, reverse=True)"
   ]
  },
  {
   "cell_type": "code",
   "execution_count": null,
   "metadata": {
    "tags": []
   },
   "outputs": [
    {
     "name": "stdout",
     "output_type": "stream",
     "text": [
      "Node: u/[deleted] In-Degree: 108\n",
      "Node: u/autotldr In-Degree: 86\n",
      "Node: u/SnapshillBot In-Degree: 60\n",
      "Node: u/PoliticsModeratorBot In-Degree: 32\n",
      "Node: u/saku393939 In-Degree: 23\n",
      "Node: u/trumpple In-Degree: 22\n",
      "Node: u/bane187 In-Degree: 22\n",
      "Node: u/Odawn In-Degree: 19\n",
      "Node: u/anti_anti_adblock In-Degree: 18\n",
      "Node: u/Panprometheus In-Degree: 17\n"
     ]
    }
   ],
   "source": [
    "for node in sorted_nodes_by_in_degree[:10]:\n",
    "    print(\"Node:\", node, \"In-Degree:\", in_degrees[node])"
   ]
  },
  {
   "cell_type": "code",
   "execution_count": null,
   "metadata": {
    "tags": []
   },
   "outputs": [],
   "source": [
    "nx.write_gexf(k_core_2, \"/mnt/data/wenlu/reddit-new/16-pkl/RTnetworks_of_KCORE2[topic=16election].gexf\")  # 保存有向子图数据"
   ]
  },
  {
   "cell_type": "markdown",
   "metadata": {},
   "source": [
    "## Communities analysis"
   ]
  },
  {
   "cell_type": "code",
   "execution_count": null,
   "metadata": {},
   "outputs": [
    {
     "name": "stdout",
     "output_type": "stream",
     "text": [
      "(27505, 6)\n"
     ]
    },
    {
     "data": {
      "text/html": [
       "<div>\n",
       "<style scoped>\n",
       "    .dataframe tbody tr th:only-of-type {\n",
       "        vertical-align: middle;\n",
       "    }\n",
       "\n",
       "    .dataframe tbody tr th {\n",
       "        vertical-align: top;\n",
       "    }\n",
       "\n",
       "    .dataframe thead th {\n",
       "        text-align: right;\n",
       "    }\n",
       "</style>\n",
       "<table border=\"1\" class=\"dataframe\">\n",
       "  <thead>\n",
       "    <tr style=\"text-align: right;\">\n",
       "      <th></th>\n",
       "      <th>Id</th>\n",
       "      <th>Label</th>\n",
       "      <th>modularity_class</th>\n",
       "      <th>indegree</th>\n",
       "      <th>outdegree</th>\n",
       "      <th>degree</th>\n",
       "    </tr>\n",
       "  </thead>\n",
       "  <tbody>\n",
       "    <tr>\n",
       "      <th>6524</th>\n",
       "      <td>u/jonnythaiwongy9</td>\n",
       "      <td>u/jonnythaiwongy9</td>\n",
       "      <td>1552</td>\n",
       "      <td>1</td>\n",
       "      <td>0</td>\n",
       "      <td>1</td>\n",
       "    </tr>\n",
       "    <tr>\n",
       "      <th>15147</th>\n",
       "      <td>u/catholichelp</td>\n",
       "      <td>u/catholichelp</td>\n",
       "      <td>6041</td>\n",
       "      <td>2</td>\n",
       "      <td>0</td>\n",
       "      <td>2</td>\n",
       "    </tr>\n",
       "    <tr>\n",
       "      <th>12367</th>\n",
       "      <td>u/QuantoFarto</td>\n",
       "      <td>u/QuantoFarto</td>\n",
       "      <td>5425</td>\n",
       "      <td>1</td>\n",
       "      <td>0</td>\n",
       "      <td>1</td>\n",
       "    </tr>\n",
       "    <tr>\n",
       "      <th>22173</th>\n",
       "      <td>u/zzzebreh</td>\n",
       "      <td>u/zzzebreh</td>\n",
       "      <td>5967</td>\n",
       "      <td>1</td>\n",
       "      <td>0</td>\n",
       "      <td>1</td>\n",
       "    </tr>\n",
       "    <tr>\n",
       "      <th>2391</th>\n",
       "      <td>u/thepriceofaslave</td>\n",
       "      <td>u/thepriceofaslave</td>\n",
       "      <td>530</td>\n",
       "      <td>1</td>\n",
       "      <td>1</td>\n",
       "      <td>2</td>\n",
       "    </tr>\n",
       "  </tbody>\n",
       "</table>\n",
       "</div>"
      ],
      "text/plain": [
       "                       Id               Label  modularity_class  indegree  \\\n",
       "6524    u/jonnythaiwongy9   u/jonnythaiwongy9              1552         1   \n",
       "15147      u/catholichelp      u/catholichelp              6041         2   \n",
       "12367       u/QuantoFarto       u/QuantoFarto              5425         1   \n",
       "22173          u/zzzebreh          u/zzzebreh              5967         1   \n",
       "2391   u/thepriceofaslave  u/thepriceofaslave               530         1   \n",
       "\n",
       "       outdegree  degree  \n",
       "6524           0       1  \n",
       "15147          0       2  \n",
       "12367          0       1  \n",
       "22173          0       1  \n",
       "2391           1       2  "
      ]
     },
     "execution_count": 146,
     "metadata": {},
     "output_type": "execute_result"
    }
   ],
   "source": [
    "# gephi nodes dataframe\n",
    "vexes = pd.read_csv(\"/mnt/data/wenlu/reddit-new/nodes-RC-16election(moduralarity=3).csv\")\n",
    "print(vexes.shape)\n",
    "vexes.sample(5)"
   ]
  },
  {
   "cell_type": "code",
   "execution_count": null,
   "metadata": {},
   "outputs": [],
   "source": [
    "# Top eight communities with the highest number of community vertices\n",
    "# [(Community number, Percentage of number of community vertices)]\n",
    "top8_list = [(5,0.1272),(168,0.0595),(173,0.0558),(5834,0.0445),(1628,0.0217),(559,0.0183),(4820,0.0159),(6041,0.0158)]\n",
    "\n",
    "# get the top 8 ones\n",
    "communities_top8 = []\n",
    "for i in range(len(top8_list)):\n",
    "    communities_top8.append(vexes[vexes['modularity_class'] == top8_list[i][0]])\n",
    "\n",
    "# sort by their ingree\n",
    "for x in communities_top8:\n",
    "    x.sort_values(by='indegree', ascending=False, inplace=True)\n",
    "    x.reset_index(inplace=True)"
   ]
  }
 ],
 "metadata": {
  "kernelspec": {
   "display_name": "Python 3 (ipykernel)",
   "language": "python",
   "name": "python3"
  },
  "language_info": {
   "codemirror_mode": {
    "name": "ipython",
    "version": 3
   },
   "file_extension": ".py",
   "mimetype": "text/x-python",
   "name": "python",
   "nbconvert_exporter": "python",
   "pygments_lexer": "ipython3",
   "version": "3.7.16"
  }
 },
 "nbformat": 4,
 "nbformat_minor": 4
}
